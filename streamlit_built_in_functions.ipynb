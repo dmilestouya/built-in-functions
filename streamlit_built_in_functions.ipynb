{
 "cells": [
  {
   "cell_type": "markdown",
   "id": "af60cf48",
   "metadata": {},
   "source": [
    "<h2 style=\"color:green\">Toma de Contacto con las Built in Functions</h2>\n",
    "\n",
    "Para poder hacer esta toma de contacto vamos a seguir las siguientes instrucciones:\n",
    "\n",
    "1.- Copiar el script que está más abajo en un archivo que se va a llamar: `app.py`\n",
    "\n",
    "    - Por ejemplo, abrír el `Notepad`, copiar y pegar en el editor, y guardarlo como `app.py` (i.e., que no tenga terminación `.txt`)"
   ]
  },
  {
   "cell_type": "code",
   "execution_count": null,
   "id": "a033ffd2",
   "metadata": {},
   "outputs": [],
   "source": [
    "# Streamlit: Jugar con Built-in-Functions\n",
    "import streamlit as st\n",
    "import random\n",
    "import builtins\n",
    "import inspect\n",
    "\n",
    "# Obtener funciones integradas\n",
    "builtin_funcs = [name for name in dir(builtins) if isinstance(getattr(builtins, name), type(abs))]\n",
    "\n",
    "# Estado de sesión\n",
    "if 'show_doc' not in st.session_state:\n",
    "    st.session_state.show_doc = False\n",
    "if 'current_func' not in st.session_state:\n",
    "    st.session_state.current_func = None\n",
    "\n",
    "# Título\n",
    "st.title(\"Built-in Functions Explorer\")\n",
    "\n",
    "tab1, = st.tabs([\"Built-in Functions\"])\n",
    "\n",
    "with tab1:\n",
    "    st.markdown(\"### Explora funciones integradas de Python\")\n",
    "\n",
    "    if st.button(\"🎲 Elegir una función aleatoria\"):\n",
    "        st.session_state.current_func = random.choice(builtin_funcs)\n",
    "        st.session_state.show_doc = True\n",
    "\n",
    "    if st.session_state.show_doc and st.session_state.current_func:\n",
    "        func_name = st.session_state.current_func\n",
    "        func_obj = getattr(builtins, func_name)\n",
    "\n",
    "        st.subheader(f\"`{func_name}()`\")\n",
    "\n",
    "        doc = inspect.getdoc(func_obj) or \"No hay documentación disponible.\"\n",
    "        st.code(doc, language='markdown')\n",
    "\n",
    "        # Enlace a documentación\n",
    "        doc_url = f\"https://docs.python.org/3/library/functions.html#{func_name}\"\n",
    "        st.markdown(f\"[🔗 Ver documentación oficial de `{func_name}()`]({doc_url})\", unsafe_allow_html=True)\n",
    "\n",
    "        # Botón para cerrar y forzar recarga\n",
    "        if st.button(\"❌ Cerrar función\"):\n",
    "            st.session_state.show_doc = False\n",
    "            st.session_state.current_func = None\n",
    "            st.experimental_rerun()  # ← esto fuerza la recarga inmediata\n"
   ]
  },
  {
   "cell_type": "markdown",
   "id": "2f8cbd53",
   "metadata": {},
   "source": [
    "2.- Ver si el paquete `streamlit` está instalado.\n",
    "\n",
    "    - Para ello, en la celda teclear y ejecutar `!pip show streamlit`\n",
    "\n",
    "3.- Si **no** está instalado, **instalarlo**:\n",
    "\n",
    "    - Copiar y pegar en la celda vacia siguiente de JN:\n"
   ]
  },
  {
   "cell_type": "code",
   "execution_count": null,
   "id": "b66a3282",
   "metadata": {},
   "outputs": [],
   "source": [
    "# Cogdig general para instalar Streamlit\n",
    "# O anaconda prompt: conda install -c conda-forge streamlit\n",
    "\n",
    "import pkg_resources\n",
    "import subprocess\n",
    "import sys\n",
    "\n",
    "try:\n",
    "    version = pkg_resources.get_distribution(\"streamlit\").version\n",
    "    print(f\"Streamlit ya está instalado. Versión: {version}\")\n",
    "except pkg_resources.DistributionNotFound:\n",
    "    print(\"Streamlit no está instalado. Instalando ahora...\\n\")\n",
    "    subprocess.check_call([sys.executable, \"-m\", \"pip\", \"install\", \"streamlit\"])\n",
    "    import streamlit as st\n",
    "    print(f\"Streamlit se instaló correctamente. Versión: {st.__version__}\")\n"
   ]
  },
  {
   "cell_type": "markdown",
   "id": "5ce15d67",
   "metadata": {},
   "source": [
    "4.- Para ejecutar el `app.py` de `Streamlit`:\n",
    "**Probar estas alternativas** (si una corre, ya está)\n",
    "\n",
    "4.1.- Directamente de una celda vacía de JN: `!streamlit run app.py`\n",
    "\n",
    "4.2.- **Anaconda Prompt**\n",
    "\n",
    "        - Ir al directorio donde está el archivo `app.py`, e.g., `cd c:\\user\\users\\...`\n",
    "\n",
    "        - En ese directorio, teclear `streamlit run app.py`\n"
   ]
  }
 ],
 "metadata": {
  "kernelspec": {
   "display_name": "base",
   "language": "python",
   "name": "python3"
  },
  "language_info": {
   "codemirror_mode": {
    "name": "ipython",
    "version": 3
   },
   "file_extension": ".py",
   "mimetype": "text/x-python",
   "name": "python",
   "nbconvert_exporter": "python",
   "pygments_lexer": "ipython3",
   "version": "3.7.9"
  }
 },
 "nbformat": 4,
 "nbformat_minor": 5
}
