{
 "cells": [
  {
   "cell_type": "code",
   "execution_count": 9,
   "id": "8f8d7a9e",
   "metadata": {},
   "outputs": [
    {
     "name": "stdout",
     "output_type": "stream",
     "text": [
      "Writing hello_JN.py\n"
     ]
    }
   ],
   "source": [
    "%%writefile hello_JN.py\n",
    "print(\"Hola Daniel\")"
   ]
  },
  {
   "cell_type": "code",
   "execution_count": 10,
   "id": "cc91415c",
   "metadata": {},
   "outputs": [
    {
     "name": "stdout",
     "output_type": "stream",
     "text": [
      " El volumen de la unidad F es Nuevo vol\n",
      " El n�mero de serie del volumen es: 5432-1F0A\n",
      "\n",
      " Directorio de f:\\curso_python_uruguay\\curso_2025\\variables\n",
      "\n",
      "28/05/2025  17:11                22 hello_JN.py\n",
      "               1 archivos             22 bytes\n",
      "               0 dirs  899.070.701.568 bytes libres\n"
     ]
    }
   ],
   "source": [
    "ls hello_JN.py"
   ]
  },
  {
   "cell_type": "code",
   "execution_count": 12,
   "id": "a66ffd77",
   "metadata": {},
   "outputs": [
    {
     "name": "stdout",
     "output_type": "stream",
     "text": [
      "Hola Daniel\n"
     ]
    }
   ],
   "source": [
    "%run hello_JN.py"
   ]
  },
  {
   "cell_type": "code",
   "execution_count": 28,
   "id": "22ebf442",
   "metadata": {},
   "outputs": [
    {
     "name": "stdout",
     "output_type": "stream",
     "text": [
      "140709589956912\n",
      "0x7ff981203930\n",
      "140709589956912\n",
      "0x7ff981203930\n",
      "True\n",
      "\n",
      "\n",
      "140709589956688\n",
      "0x7ff981203850\n",
      "140709589956912\n",
      "0x7ff981203930\n",
      "False\n",
      "3\n",
      "10\n"
     ]
    }
   ],
   "source": [
    "x = 10\n",
    "y = x\n",
    "print(id(x))      \n",
    "print(hex(id(x)))\n",
    "print(id(y)      )\n",
    "print(hex(id(y)))\n",
    "print(x is y) \n",
    "x = 3\n",
    "print(\"\\n\")\n",
    "print(id(x))      \n",
    "print(hex(id(x)))\n",
    "print(id(y)      )\n",
    "print(hex(id(y)))\n",
    "print(x is y)\n",
    "print(x)\n",
    "print(y)\n"
   ]
  },
  {
   "cell_type": "code",
   "execution_count": 30,
   "id": "936e2ad8",
   "metadata": {},
   "outputs": [
    {
     "data": {
      "text/plain": [
       "bool"
      ]
     },
     "execution_count": 30,
     "metadata": {},
     "output_type": "execute_result"
    }
   ],
   "source": [
    "type(x is y)"
   ]
  },
  {
   "cell_type": "code",
   "execution_count": 36,
   "id": "ba31b33a",
   "metadata": {},
   "outputs": [
    {
     "name": "stdout",
     "output_type": "stream",
     "text": [
      "    Hola , Ana                           Ines    \n"
     ]
    }
   ],
   "source": [
    "nombre = input(\"¿Cómo te llamas? \")\n",
    "nombre = nombre.strip()\n",
    "print(f\"    Hola , {nombre}    \")"
   ]
  },
  {
   "cell_type": "code",
   "execution_count": 37,
   "id": "acedcd77",
   "metadata": {},
   "outputs": [
    {
     "name": "stdout",
     "output_type": "stream",
     "text": [
      "23\n"
     ]
    }
   ],
   "source": [
    "x = input(\"¿Cuál es x? \")\n",
    "y = input(\"¿Cuál es y? \")\n",
    "print(x + y)\n"
   ]
  },
  {
   "cell_type": "code",
   "execution_count": 1,
   "id": "98286e9b",
   "metadata": {},
   "outputs": [
    {
     "name": "stdout",
     "output_type": "stream",
     "text": [
      "[1/3] Abriendo documentación para la función: filter\n",
      "→ Continuando...\n",
      "\n",
      "[2/3] Abriendo documentación para la función: ascii\n",
      "→ Continuando...\n",
      "\n",
      "[3/3] Abriendo documentación para la función: get_ipython\n",
      "→ Continuando...\n",
      "\n"
     ]
    }
   ],
   "source": [
    "import builtins\n",
    "import random\n",
    "import webbrowser\n",
    "import time\n",
    "\n",
    "# Get a list of real built-in functions (filtering out exceptions and irrelevant names)\n",
    "built_in_funcs = [\n",
    "    name for name in dir(builtins)\n",
    "    if callable(getattr(builtins, name))\n",
    "    and not name.startswith('__')\n",
    "    and not name.endswith('Error')\n",
    "    and not name.endswith('Warning')\n",
    "    and name not in {'credits', 'license', 'copyright'}\n",
    "]\n",
    "\n",
    "# Keep track of functions already shown\n",
    "shown = set()\n",
    "\n",
    "# Number of functions to show\n",
    "n = 3\n",
    "\n",
    "# Base documentation URL\n",
    "base_url = \"https://docs.python.org/3/library/functions.html#\"\n",
    "\n",
    "for i in range(n):\n",
    "    # Choose a function not shown yet\n",
    "    while True:\n",
    "        func_name = random.choice(built_in_funcs)\n",
    "        if func_name not in shown:\n",
    "            shown.add(func_name)\n",
    "            break\n",
    "\n",
    "    url = f\"{base_url}{func_name}\"\n",
    "    print(f\"[{i+1}/{n}] Abriendo documentación para la función: {func_name}\")\n",
    "    webbrowser.open(url)\n",
    "    \n",
    "    input(\"¿Función leída? Presiona ENTER para continuar...\")\n",
    "    \n",
    "    # Nota: no hay forma estándar de cerrar la pestaña en el navegador desde Python.\n",
    "    # Lo más común es que el usuario cierre manualmente si lo desea.\n",
    "    print(\"→ Continuando...\\n\")\n",
    "    time.sleep(1)\n"
   ]
  },
  {
   "cell_type": "code",
   "execution_count": null,
   "id": "d551f0ea",
   "metadata": {},
   "outputs": [],
   "source": []
  },
  {
   "cell_type": "code",
   "execution_count": null,
   "id": "af60cf48",
   "metadata": {},
   "outputs": [],
   "source": []
  },
  {
   "cell_type": "code",
   "execution_count": null,
   "id": "0eecf495",
   "metadata": {},
   "outputs": [],
   "source": []
  },
  {
   "cell_type": "code",
   "execution_count": 20,
   "id": "14ff0ff4",
   "metadata": {},
   "outputs": [
    {
     "name": "stdout",
     "output_type": "stream",
     "text": [
      "2000317007280\n",
      "0x1d1bc2f45b0\n",
      "2000316548368\n",
      "0x1d1bc284510\n"
     ]
    }
   ],
   "source": [
    "x = 10.0\n",
    "y = 10.0\n",
    "print(id(x))      \n",
    "print(hex(id(x)))\n",
    "print(id(y)      )\n",
    "print(hex(id(y)))"
   ]
  },
  {
   "cell_type": "code",
   "execution_count": 19,
   "id": "c2a34f05",
   "metadata": {},
   "outputs": [
    {
     "name": "stdout",
     "output_type": "stream",
     "text": [
      "140709589956688\n",
      "0x7ff981203850\n",
      "140709589956688\n",
      "0x7ff981203850\n"
     ]
    }
   ],
   "source": [
    "x = 3\n",
    "y = 3\n",
    "print(id(x))      \n",
    "print(hex(id(x)))\n",
    "print(id(y)      )\n",
    "print(hex(id(y)))"
   ]
  },
  {
   "cell_type": "code",
   "execution_count": null,
   "id": "eb01f4f4",
   "metadata": {},
   "outputs": [],
   "source": []
  }
 ],
 "metadata": {
  "kernelspec": {
   "display_name": "base",
   "language": "python",
   "name": "python3"
  },
  "language_info": {
   "codemirror_mode": {
    "name": "ipython",
    "version": 3
   },
   "file_extension": ".py",
   "mimetype": "text/x-python",
   "name": "python",
   "nbconvert_exporter": "python",
   "pygments_lexer": "ipython3",
   "version": "3.7.9"
  }
 },
 "nbformat": 4,
 "nbformat_minor": 5
}
